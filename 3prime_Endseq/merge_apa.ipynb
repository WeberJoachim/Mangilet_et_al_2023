{
 "cells": [
  {
   "cell_type": "code",
   "execution_count": 1,
   "metadata": {
    "vscode": {
     "languageId": "r"
    }
   },
   "outputs": [
    {
     "name": "stderr",
     "output_type": "stream",
     "text": [
      "Warning message:\n",
      "\"package 'dplyr' was built under R version 4.2.3\"\n"
     ]
    }
   ],
   "source": [
    "suppressMessages(library(\"dplyr\"))    # 1.1.2"
   ]
  },
  {
   "cell_type": "code",
   "execution_count": 2,
   "metadata": {
    "vscode": {
     "languageId": "r"
    }
   },
   "outputs": [],
   "source": [
    "#read in apa results provided by Gregor Roth using the apa analysis pipeline at https://www.expressrna.org/\n",
    "\n",
    "u1c     = read.csv(\"results_apa_amirR-u1c.csv\",     row.names = 1)\n",
    "u170k   = read.csv(\"results_apa_amirR-u170k.csv\",   row.names = 1)"
   ]
  },
  {
   "cell_type": "code",
   "execution_count": 3,
   "metadata": {
    "vscode": {
     "languageId": "r"
    }
   },
   "outputs": [
    {
     "name": "stdout",
     "output_type": "stream",
     "text": [
      "[1] \"The number of enhanced PAS in u1c is 467\"\n",
      "[1] \"The number of repressed PAS in u1c is 693\"\n",
      "[1] \"The number of enhanced PAS in u170k is 467\"\n",
      "[1] \"The number of repressed PAS in u170k is 484\"\n",
      "[1] \"The overlap of enhanced PAS between u1c and u170k is 176\"\n",
      "[1] \"The overlap of repressed PAS between u1c and u170k is 102\"\n",
      "[1] \"The number of enhanced composite PAS in u1c is 10\"\n",
      "[1] \"The number of repressed composite PAS in u1c is 93\"\n",
      "[1] \"The number of enhanced composite PAS in u170k is 18\"\n",
      "[1] \"The number of repressed composite PAS in u170k is 279\"\n"
     ]
    }
   ],
   "source": [
    "#get all overlapping events\n",
    "all_events = merge(u1c, u170k, by = c(1,2,3,4,5,6,7,8,10,12,14), all = TRUE)\n",
    "\n",
    "#check individual events for enhanced/repressed\n",
    "enhanced_u1c = nrow(u170k %>% filter(gene_class == \"enhanced\"))\n",
    "print(paste0(\"The number of enhanced PAS in u1c is \", enhanced_u1c))\n",
    "\n",
    "repressed_u1c = nrow(u1c %>% filter(gene_class == \"repressed\"))\n",
    "print(paste0(\"The number of repressed PAS in u1c is \", repressed_u1c))\n",
    "\n",
    "enhanced_u170k = nrow(u170k %>% filter(gene_class == \"enhanced\"))\n",
    "print(paste0(\"The number of enhanced PAS in u170k is \", enhanced_u170k))\n",
    "\n",
    "repressed_u170k = nrow(u170k %>% filter(gene_class == \"repressed\"))\n",
    "print(paste0(\"The number of repressed PAS in u170k is \", repressed_u170k))\n",
    "\n",
    "\n",
    "#get the overlap\n",
    "overlap_enhanced    = merge(u1c %>% filter(gene_class == \"enhanced\"),   u170k %>% filter(gene_class == \"enhanced\"),     by = c(1,2,3,4,5,6,8,9,10,12,14,35), suffixes = c(\"_u1c\", \"_u170k\"))\n",
    "overlap_repressed   = merge(u1c %>% filter(gene_class == \"repressed\"),  u170k %>% filter(gene_class == \"repressed\"),    by = c(1,2,3,4,5,6,8,9,10,12,14,35), suffixes = c(\"_u1c\", \"_u170k\"))\n",
    "\n",
    "print(paste0(\"The overlap of enhanced PAS between u1c and u170k is \",   nrow(overlap_enhanced)))\n",
    "print(paste0(\"The overlap of repressed PAS between u1c and u170k is \",  nrow(overlap_repressed)))\n",
    "\n",
    "\n",
    "#define every type by genotype, eventtype and direction of change\n",
    "u1c_enhanced_composite      = u1c %>% filter(pair_type == \"composite\"       & gene_class == \"enhanced\")\n",
    "u1c_enhanced_same           = u1c %>% filter(pair_type == \"same\"            & gene_class == \"enhanced\")\n",
    "u1c_enhanced_skipped        = u1c %>% filter(pair_type == \"skipped\"         & gene_class == \"enhanced\")\n",
    "u1c_repressed_composite     = u1c %>% filter(pair_type == \"composite\"       & gene_class == \"repressed\")\n",
    "u1c_repressed_same          = u1c %>% filter(pair_type == \"same\"            & gene_class == \"repressed\")\n",
    "u1c_repressed_skipped       = u1c %>% filter(pair_type == \"skipped\"         & gene_class == \"repressed\")\n",
    "\n",
    "\n",
    "u170k_enhanced_composite    = u170k %>% filter(pair_type == \"composite\"     & gene_class == \"enhanced\")\n",
    "u170k_enhanced_same         = u170k %>% filter(pair_type == \"same\"          & gene_class == \"enhanced\")\n",
    "u170k_enhanced_skipped      = u170k %>% filter(pair_type == \"skipped\"       & gene_class == \"enhanced\")\n",
    "u170k_repressed_composite   = u170k %>% filter(pair_type == \"composite\"     & gene_class == \"repressed\")\n",
    "u170k_repressed_same        = u170k %>% filter(pair_type == \"same\"          & gene_class == \"repressed\")\n",
    "u170k_repressed_skipped     = u170k %>% filter(pair_type == \"skipped\"       & gene_class == \"repressed\")\n",
    "\n",
    "\n",
    "print(paste0(\"The number of enhanced composite PAS in u1c is \",     nrow(u1c_enhanced_composite)))\n",
    "print(paste0(\"The number of repressed composite PAS in u1c is \",    nrow(u1c_repressed_composite)))\n",
    "\n",
    "print(paste0(\"The number of enhanced composite PAS in u170k is \",   nrow(u170k_enhanced_composite)))\n",
    "print(paste0(\"The number of repressed composite PAS in u170k is \",  nrow(u170k_repressed_composite)))\n"
   ]
  },
  {
   "cell_type": "code",
   "execution_count": 5,
   "metadata": {
    "vscode": {
     "languageId": "r"
    }
   },
   "outputs": [],
   "source": [
    "#get the overlaps\n",
    "#this is a pretty restrictive merging. The both polyA sites need to be at the exact same position\n",
    "ski_rep     = merge(u1c %>% filter(pair_type == \"skipped\"   & gene_class == \"repressed\"),    u170k %>% filter(pair_type == \"skipped\"   & gene_class == \"repressed\"), by = c(1,2,3,4,5,6,8,9,10,12,14,34,35), suffixes = c(\"_u1c\", \"_u170k\"))\n",
    "same_rep    = merge(u1c %>% filter(pair_type == \"same\"      & gene_class == \"repressed\"),    u170k %>% filter(pair_type == \"same\"      & gene_class == \"repressed\"), by = c(1,2,3,4,5,6,8,9,10,12,14,34,35), suffixes = c(\"_u1c\", \"_u170k\"))\n",
    "comp_rep    = merge(u1c %>% filter(pair_type == \"composite\" & gene_class == \"repressed\"),    u170k %>% filter(pair_type == \"composite\" & gene_class == \"repressed\"), by = c(1,2,3,4,5,6,8,9,10,12,14,34,35), suffixes = c(\"_u1c\", \"_u170k\"))\n",
    "ski_enh     = merge(u1c %>% filter(pair_type == \"skipped\"   & gene_class == \"enhanced\"),     u170k %>% filter(pair_type == \"skipped\"   & gene_class == \"enhanced\"),  by = c(1,2,3,4,5,6,8,9,10,12,14,34,35), suffixes = c(\"_u1c\", \"_u170k\"))\n",
    "same_enh    = merge(u1c %>% filter(pair_type == \"same\"      & gene_class == \"enhanced\"),     u170k %>% filter(pair_type == \"same\"      & gene_class == \"enhanced\"),  by = c(1,2,3,4,5,6,8,9,10,12,14,34,35), suffixes = c(\"_u1c\", \"_u170k\"))\n",
    "comp_enh    = merge(u1c %>% filter(pair_type == \"composite\" & gene_class == \"enhanced\"),     u170k %>% filter(pair_type == \"composite\" & gene_class == \"enhanced\"),  by = c(1,2,3,4,5,6,8,9,10,12,14,34,35), suffixes = c(\"_u1c\", \"_u170k\"))"
   ]
  },
  {
   "cell_type": "code",
   "execution_count": 6,
   "metadata": {
    "vscode": {
     "languageId": "r"
    }
   },
   "outputs": [
    {
     "data": {
      "text/html": [
       "38"
      ],
      "text/latex": [
       "38"
      ],
      "text/markdown": [
       "38"
      ],
      "text/plain": [
       "[1] 38"
      ]
     },
     "metadata": {},
     "output_type": "display_data"
    }
   ],
   "source": [
    "#get number of comp_rep events\n",
    "nrow(comp_rep)"
   ]
  },
  {
   "cell_type": "code",
   "execution_count": 7,
   "metadata": {
    "vscode": {
     "languageId": "r"
    }
   },
   "outputs": [],
   "source": [
    "#write output tables\n",
    "write.table(x = same_enh,   \"overlap_apa_enhanced_same_exon\",        row.names = F, col.names = F, quote = F)\n",
    "write.table(x = ski_enh,    \"overlap_apa_enhanced_skipped_exon\",     row.names = F, col.names = F, quote = F)\n",
    "write.table(x = comp_enh,   \"overlap_apa_enhanced_composite_exon\",   row.names = F, col.names = F, quote = F)\n",
    "write.table(x = same_rep,   \"overlap_apa_repressed_same_exon\",       row.names = F, col.names = F, quote = F)\n",
    "write.table(x = ski_rep,    \"overlap_apa_repressed_skipped_exon\",    row.names = F, col.names = F, quote = F)\n",
    "write.table(x = comp_rep,   \"overlap_apa_repressed_composite_exon\",  row.names = F, col.names = F, quote = F)"
   ]
  },
  {
   "cell_type": "code",
   "execution_count": 7,
   "metadata": {
    "vscode": {
     "languageId": "r"
    }
   },
   "outputs": [
    {
     "data": {
      "text/html": [
       "1.45839396774475e-73"
      ],
      "text/latex": [
       "1.45839396774475e-73"
      ],
      "text/markdown": [
       "1.45839396774475e-73"
      ],
      "text/plain": [
       "[1] 1.458394e-73"
      ]
     },
     "metadata": {},
     "output_type": "display_data"
    }
   ],
   "source": [
    "#test for significant over-representation in overlap of enhanced PAS\n",
    "phyper(nrow(overlap_enhanced)-1, enhanced_u1c, nrow(all_events)-enhanced_u1c, enhanced_u170k, lower.tail = FALSE)"
   ]
  },
  {
   "cell_type": "code",
   "execution_count": 8,
   "metadata": {
    "vscode": {
     "languageId": "r"
    }
   },
   "outputs": [
    {
     "data": {
      "text/html": [
       "1.23701752951033e-06"
      ],
      "text/latex": [
       "1.23701752951033e-06"
      ],
      "text/markdown": [
       "1.23701752951033e-06"
      ],
      "text/plain": [
       "[1] 1.237018e-06"
      ]
     },
     "metadata": {},
     "output_type": "display_data"
    }
   ],
   "source": [
    "#test for significant over-representation in overlap of repressed PAS\n",
    "phyper(nrow(overlap_repressed)-1, repressed_u1c, nrow(all_events)-repressed_u1c, repressed_u170k, lower.tail = FALSE)"
   ]
  },
  {
   "cell_type": "code",
   "execution_count": 9,
   "metadata": {
    "vscode": {
     "languageId": "r"
    }
   },
   "outputs": [
    {
     "data": {
      "text/html": [
       "1.18833919161055e-24"
      ],
      "text/latex": [
       "1.18833919161055e-24"
      ],
      "text/markdown": [
       "1.18833919161055e-24"
      ],
      "text/plain": [
       "[1] 1.188339e-24"
      ]
     },
     "metadata": {},
     "output_type": "display_data"
    }
   ],
   "source": [
    "#test for significant over-representation in overlap of repressed composite PAS\n",
    "phyper(nrow(comp_rep)-1, nrow(u1c_repressed_composite), nrow(all_events)-nrow(u1c_repressed_composite), nrow(u170k_repressed_composite), lower.tail = FALSE)"
   ]
  },
  {
   "cell_type": "code",
   "execution_count": 10,
   "metadata": {
    "vscode": {
     "languageId": "r"
    }
   },
   "outputs": [
    {
     "data": {
      "text/html": [
       "7.48109828624232e-11"
      ],
      "text/latex": [
       "7.48109828624232e-11"
      ],
      "text/markdown": [
       "7.48109828624232e-11"
      ],
      "text/plain": [
       "[1] 7.481098e-11"
      ]
     },
     "metadata": {},
     "output_type": "display_data"
    }
   ],
   "source": [
    "#test for significant over-representation in overlap of enhanced composite PAS\n",
    "phyper(nrow(comp_enh)-1, nrow(u1c_enhanced_composite), nrow(all_events)-nrow(u1c_enhanced_composite), nrow(u170k_enhanced_composite), lower.tail = FALSE)"
   ]
  },
  {
   "cell_type": "markdown",
   "metadata": {},
   "source": [
    "###3. Analysis for revision\n",
    "\n",
    "3.1 Make bed files to search for denovo and known motifs around the pA sites and unrelated introns at the same relative position as the polyA-Sites"
   ]
  },
  {
   "cell_type": "code",
   "execution_count": 4,
   "metadata": {
    "vscode": {
     "languageId": "r"
    }
   },
   "outputs": [],
   "source": [
    "#filter proximal repressed composite sites\n",
    "u1c_proximal_pa_repressed_composite     = u1c_repressed_composite   %>% select(chr, proximal_pos, distal_pos, gene_id, gene_class, strand) \n",
    "u170k_proximal_pa_repressed_composite   = u170k_repressed_composite %>% select(chr, proximal_pos, distal_pos, gene_id, gene_class, strand) "
   ]
  },
  {
   "cell_type": "code",
   "execution_count": 5,
   "metadata": {
    "vscode": {
     "languageId": "r"
    }
   },
   "outputs": [],
   "source": [
    "#The way my workflow works currently, is that i need an interval of at least length 2 in my bedfile. So i extend the proximal position by 1 downstream.\n",
    "#u170k\n",
    "\n",
    "bed_proximal_sites_u170k_pos = u170k_proximal_pa_repressed_composite    %>% \n",
    "    filter(strand == \"+\")                                               %>%\n",
    "    group_by(gene_id)                                                   %>%\n",
    "\n",
    "    #here i make sure i dont take several pAs from the same gene but take the most proximal one\n",
    "    slice_min(order_by = proximal_pos, n = 1)                           %>%\n",
    "\n",
    "    #gene class is just a place holder\n",
    "    select(chr, proximal_pos, distal_pos, gene_id, gene_class, strand)  %>%\n",
    "    mutate(distal_pos = proximal_pos+1, gene_class = \".\")\n",
    "\n",
    "\n",
    "bed_proximal_sites_u170k_neg = u170k_proximal_pa_repressed_composite    %>% \n",
    "    filter(strand == \"-\")                                               %>%\n",
    "    group_by(gene_id)                                                   %>%  \n",
    "\n",
    "    #here i make sure i dont take several pAs from the same gene but take the most proximal one\n",
    "    slice_max(order_by = proximal_pos, n = 1)                           %>%\n",
    "\n",
    "    #gene class is just a place holder\n",
    "    select(chr, distal_pos, proximal_pos, gene_id, gene_class, strand)  %>%\n",
    "    mutate(distal_pos = proximal_pos-1, gene_class = \".\")\n",
    "\n",
    "colnames(bed_proximal_sites_u170k_neg) = colnames(bed_proximal_sites_u170k_pos)\n",
    "bed_proximal_sites_u170k = rbind(bed_proximal_sites_u170k_neg, bed_proximal_sites_u170k_pos)"
   ]
  },
  {
   "cell_type": "code",
   "execution_count": 6,
   "metadata": {
    "vscode": {
     "languageId": "r"
    }
   },
   "outputs": [],
   "source": [
    "#u1c. I look at both individually because the overlap is too small for me to realisticly see anything\n",
    "\n",
    "bed_proximal_sites_u1c_pos = u1c_proximal_pa_repressed_composite        %>% \n",
    "    filter(strand == \"+\")                                               %>%\n",
    "    group_by(gene_id)                                                   %>%\n",
    "\n",
    "    #here i make sure i dont take several pAs from the same gene but take the most proximal one\n",
    "    slice_min(order_by = proximal_pos, n = 1)                           %>%\n",
    "\n",
    "    #gene class is just a place holder\n",
    "    select(chr, proximal_pos, distal_pos, gene_id, gene_class, strand)  %>%\n",
    "    mutate(distal_pos = proximal_pos+1, gene_class = \".\")\n",
    "\n",
    "\n",
    "bed_proximal_sites_u1c_neg = u1c_proximal_pa_repressed_composite        %>% \n",
    "    filter(strand == \"-\")                                               %>%\n",
    "    group_by(gene_id)                                                   %>%  \n",
    "\n",
    "    #here i make sure i dont take several pAs from the same gene but take the most proximal one\n",
    "    slice_max(order_by = proximal_pos, n = 1)                           %>%\n",
    "\n",
    "    #gene class is just a place holder\n",
    "    select(chr, distal_pos, proximal_pos, gene_id, gene_class, strand)  %>%\n",
    "    mutate(distal_pos = proximal_pos-1, gene_class = \".\")\n",
    "\n",
    "colnames(bed_proximal_sites_u1c_neg) = colnames(bed_proximal_sites_u1c_pos)\n",
    "bed_proximal_sites_u1c = rbind(bed_proximal_sites_u1c_neg, bed_proximal_sites_u1c_pos)"
   ]
  },
  {
   "cell_type": "code",
   "execution_count": 7,
   "metadata": {
    "vscode": {
     "languageId": "r"
    }
   },
   "outputs": [],
   "source": [
    "write.table(bed_proximal_sites_u1c,     file = \"proximal_pA_comp_rep_u1c.bed\",      quote = F, row.names = F, col.names = F, sep = \"\\t\")\n",
    "write.table(bed_proximal_sites_u170k,   file = \"proximal_pA_comp_rep_u170k.bed\",    quote = F, row.names = F, col.names = F, sep = \"\\t\")"
   ]
  },
  {
   "cell_type": "markdown",
   "metadata": {
    "vscode": {
     "languageId": "r"
    }
   },
   "source": [
    "#create bed files for background used for homer and nucleotide frequency plotting\n",
    "\n",
    "# first i want a set of intronic regions around the same relative position, that the intronic polyA-Sites are located. By this i mean the proximal pA - sites from comp repressed events.\n",
    "# therefore i need to determine the relative position first:"
   ]
  },
  {
   "cell_type": "code",
   "execution_count": 4,
   "metadata": {
    "vscode": {
     "languageId": "r"
    }
   },
   "outputs": [],
   "source": [
    "distances_u1c   = read.table(\"results/distances/distance_intronboundaries_to_proximal_pA_comp_rep_u1c.out\")   %>% \n",
    "    select(V1, V3, V4, V5, V6, V7, V10, V22, V23, V24, V26)                             %>%\n",
    "    distinct(.keep_all = T)                                                             %>%\n",
    "    filter(V24 == V10 & V3 == \"intron\")                                                 %>%\n",
    "    mutate(intron_length = abs(V4-V5), dstart = \".\", dend = \".\")\n",
    "\n",
    "\n",
    "distances_u170k = read.table(\"results/distances/distance_intronboundaries_to_proximal_pA_comp_rep_u170k.out\") %>% \n",
    "    select(V1, V3, V4, V5, V6, V7, V10, V22, V23, V24, V26)                             %>%\n",
    "    distinct(.keep_all = T)                                                             %>%\n",
    "    filter(V24 == V10 & V3 == \"intron\")                                                 %>%\n",
    "    mutate(intron_length = abs(V4-V5), dstart = \".\", dend = \".\")"
   ]
  },
  {
   "cell_type": "code",
   "execution_count": 5,
   "metadata": {
    "vscode": {
     "languageId": "r"
    }
   },
   "outputs": [],
   "source": [
    "#calculate distances\n",
    "\n",
    "for(i in 1:nrow(distances_u1c)){\n",
    "  if(distances_u1c[i,\"V7\"] == \"+\"){\n",
    "    distances_u1c[i,\"dstart\"] = distances_u1c[i,\"V22\"] - distances_u1c[i,\"V4\"]\n",
    "    distances_u1c[i,\"dend\"]   = distances_u1c[i,\"V5\"] - distances_u1c[i,\"V23\"]\n",
    "  }\n",
    "  if(distances_u1c[i,\"V7\"] == \"-\"){\n",
    "    distances_u1c[i,\"dstart\"] = distances_u1c[i,\"V5\"] - distances_u1c[i,\"V23\"]\n",
    "    distances_u1c[i,\"dend\"]   = distances_u1c[i,\"V22\"] - distances_u1c[i,\"V4\"]\n",
    "  }\n",
    "}\n",
    "\n",
    "\n",
    "for(i in 1:nrow(distances_u170k)){\n",
    "  if(distances_u170k[i,\"V7\"] == \"+\"){\n",
    "    distances_u170k[i,\"dstart\"] = distances_u170k[i,\"V22\"] - distances_u170k[i,\"V4\"]\n",
    "    distances_u170k[i,\"dend\"]   = distances_u170k[i,\"V5\"] - distances_u170k[i,\"V23\"]\n",
    "  }\n",
    "  if(distances_u170k[i,\"V7\"] == \"-\"){\n",
    "    distances_u170k[i,\"dstart\"] = distances_u170k[i,\"V5\"] - distances_u170k[i,\"V23\"]\n",
    "    distances_u170k[i,\"dend\"]   = distances_u170k[i,\"V22\"] - distances_u170k[i,\"V4\"]\n",
    "  }\n",
    "}"
   ]
  },
  {
   "cell_type": "code",
   "execution_count": 6,
   "metadata": {
    "vscode": {
     "languageId": "r"
    }
   },
   "outputs": [],
   "source": [
    "#normalise to intron length\n",
    "distances_u1c = distances_u1c       %>% mutate(rel_dstart = as.numeric(dstart)/intron_length, rel_dend = as.numeric(dend)/intron_length)\n",
    "distances_u170k = distances_u170k   %>% mutate(rel_dstart = as.numeric(dstart)/intron_length, rel_dend = as.numeric(dend)/intron_length)"
   ]
  },
  {
   "cell_type": "code",
   "execution_count": 7,
   "metadata": {
    "vscode": {
     "languageId": "r"
    }
   },
   "outputs": [
    {
     "data": {
      "image/png": "[encoded data removed]",
      "text/plain": [
       "Plot with title \"Histogram of distances_u1c$rel_dstart\""
      ]
     },
     "metadata": {
      "image/png": {
       "height": 420,
       "width": 420
      }
     },
     "output_type": "display_data"
    },
    {
     "data": {
      "image/png": "[encoded data removed]",
      "text/plain": [
       "Plot with title \"Histogram of distances_u1c$rel_dend\""
      ]
     },
     "metadata": {
      "image/png": {
       "height": 420,
       "width": 420
      }
     },
     "output_type": "display_data"
    },
    {
     "data": {
      "image/png": "[encoded data removed]",
      "text/plain": [
       "Plot with title \"Histogram of distances_u170k$rel_dstart\""
      ]
     },
     "metadata": {
      "image/png": {
       "height": 420,
       "width": 420
      }
     },
     "output_type": "display_data"
    },
    {
     "data": {
      "image/png": "[encoded data removed]",
      "text/plain": [
       "Plot with title \"Histogram of distances_u170k$rel_dend\""
      ]
     },
     "metadata": {
      "image/png": {
       "height": 420,
       "width": 420
      }
     },
     "output_type": "display_data"
    }
   ],
   "source": [
    "#plot histograms\n",
    "hist(distances_u1c$rel_dstart)\n",
    "hist(distances_u1c$rel_dend)\n",
    "hist(distances_u170k$rel_dstart)\n",
    "hist(distances_u170k$rel_dend)"
   ]
  },
  {
   "cell_type": "code",
   "execution_count": 8,
   "metadata": {
    "vscode": {
     "languageId": "r"
    }
   },
   "outputs": [
    {
     "data": {
      "text/plain": [
       "       V1             V3                  V4                 V5          \n",
       " Min.   :1.000   Length:145         Min.   :  146179   Min.   :  146831  \n",
       " 1st Qu.:1.000   Class :character   1st Qu.: 4140457   1st Qu.: 4141071  \n",
       " Median :3.000   Mode  :character   Median :10266292   Median :10266783  \n",
       " Mean   :2.924                      Mean   :12030252   Mean   :12030745  \n",
       " 3rd Qu.:4.000                      3rd Qu.:19192536   3rd Qu.:19193464  \n",
       " Max.   :5.000                      Max.   :29447706   Max.   :29448129  \n",
       "      V6                 V7                V10                 V22          \n",
       " Length:145         Length:145         Length:145         Min.   :  146285  \n",
       " Class :character   Class :character   Class :character   1st Qu.: 4140651  \n",
       " Mode  :character   Mode  :character   Mode  :character   Median :10266686  \n",
       "                                                          Mean   :12030465  \n",
       "                                                          3rd Qu.:19192659  \n",
       "                                                          Max.   :29447914  \n",
       "      V23               V24                V26            intron_length   \n",
       " Min.   :  146286   Length:145         Length:145         Min.   :  71.0  \n",
       " 1st Qu.: 4140652   Class :character   Class :character   1st Qu.: 166.0  \n",
       " Median :10266687   Mode  :character   Mode  :character   Median : 338.0  \n",
       " Mean   :12030466                                         Mean   : 493.3  \n",
       " 3rd Qu.:19192660                                         3rd Qu.: 652.0  \n",
       " Max.   :29447915                                         Max.   :1595.0  \n",
       "    dstart              dend             rel_dstart          rel_dend     \n",
       " Length:145         Length:145         Min.   :-0.01075   Min.   :0.0000  \n",
       " Class :character   Class :character   1st Qu.: 0.16129   1st Qu.:0.3496  \n",
       " Mode  :character   Mode  :character   Median : 0.33803   Median :0.6486  \n",
       "                                       Mean   : 0.39825   Mean   :0.5977  \n",
       "                                       3rd Qu.: 0.64969   3rd Qu.:0.8368  \n",
       "                                       Max.   : 0.99687   Max.   :1.0000  "
      ]
     },
     "metadata": {},
     "output_type": "display_data"
    },
    {
     "data": {
      "text/plain": [
       "       V1             V3                  V4                 V5          \n",
       " Min.   :1.000   Length:430         Min.   :   46146   Min.   :   46372  \n",
       " 1st Qu.:2.000   Class :character   1st Qu.: 5524743   1st Qu.: 5524823  \n",
       " Median :3.000   Mode  :character   Median :12049486   Median :12049836  \n",
       " Mean   :3.016                      Mean   :12761945   Mean   :12762354  \n",
       " 3rd Qu.:5.000                      3rd Qu.:19611960   3rd Qu.:19612308  \n",
       " Max.   :5.000                      Max.   :30141763   Max.   :30141902  \n",
       "      V6                 V7                V10                 V22          \n",
       " Length:430         Length:430         Length:430         Min.   :   46309  \n",
       " Class :character   Class :character   Class :character   1st Qu.: 5524811  \n",
       " Mode  :character   Mode  :character   Mode  :character   Median :12049562  \n",
       "                                                          Mean   :12762130  \n",
       "                                                          3rd Qu.:19612134  \n",
       "                                                          Max.   :30141786  \n",
       "      V23               V24                V26            intron_length   \n",
       " Min.   :   46310   Length:430         Length:430         Min.   :  56.0  \n",
       " 1st Qu.: 5524812   Class :character   Class :character   1st Qu.: 158.0  \n",
       " Median :12049563   Mode  :character   Mode  :character   Median : 309.0  \n",
       " Mean   :12762131                                         Mean   : 409.9  \n",
       " 3rd Qu.:19612135                                         3rd Qu.: 506.0  \n",
       " Max.   :30141787                                         Max.   :2561.0  \n",
       "    dstart              dend             rel_dstart        rel_dend     \n",
       " Length:430         Length:430         Min.   :0.0000   Min.   :0.0000  \n",
       " Class :character   Class :character   1st Qu.:0.2220   1st Qu.:0.2723  \n",
       " Mode  :character   Mode  :character   Median :0.4420   Median :0.5541  \n",
       "                                       Mean   :0.4676   Mean   :0.5279  \n",
       "                                       3rd Qu.:0.7200   3rd Qu.:0.7753  \n",
       "                                       Max.   :0.9913   Max.   :0.9951  "
      ]
     },
     "metadata": {},
     "output_type": "display_data"
    }
   ],
   "source": [
    "#get exact mean and median\n",
    "summary(distances_u1c)\n",
    "summary(distances_u170k)"
   ]
  },
  {
   "cell_type": "code",
   "execution_count": 13,
   "metadata": {
    "vscode": {
     "languageId": "r"
    }
   },
   "outputs": [],
   "source": [
    "#now take intron gtf and create new bedfile at the position\n",
    "\n",
    "atrtd3_gtf_introns = read.table(\"results/atRTD3_TS_21Feb22_transfix_introns.gtf\")        %>% \n",
    "                     filter(V3 == \"intron\")                                                   %>%\n",
    "                     select(V1, V4, V5, V10, V6, V7)                                          %>%\n",
    "                     distinct(.keep_all =  T)                                                 %>%\n",
    "                     mutate(newstart = NA, newend = NA)\n",
    "                 \n",
    "\n",
    "for(i in 1:nrow(atrtd3_gtf_introns)){\n",
    "  if(atrtd3_gtf_introns[i, \"V7\"] == \"+\"){\n",
    "    atrtd3_gtf_introns[i, \"newstart\"] = round(abs(atrtd3_gtf_introns[i, \"V5\"] - atrtd3_gtf_introns[i, \"V4\"])*((0.33803+0.4420)/2) + atrtd3_gtf_introns[i, \"V4\"])\n",
    "    atrtd3_gtf_introns[i, \"newend\"]   = atrtd3_gtf_introns[i, \"newstart\"] + 1\n",
    "  }\n",
    "  \n",
    "  if(atrtd3_gtf_introns[i, \"V7\"] == \"-\"){\n",
    "    atrtd3_gtf_introns[i, \"newend\"] = atrtd3_gtf_introns[i, \"V5\"] - round(abs(atrtd3_gtf_introns[i, \"V5\"] - atrtd3_gtf_introns[i, \"V4\"])*((0.33803+0.4420)/2)) \n",
    "    atrtd3_gtf_introns[i, \"newstart\"]   = atrtd3_gtf_introns[i, \"newend\"] - 1\n",
    "  }\n",
    "  \n",
    "}"
   ]
  },
  {
   "cell_type": "code",
   "execution_count": 14,
   "metadata": {
    "vscode": {
     "languageId": "r"
    }
   },
   "outputs": [],
   "source": [
    "#combine and write to bed file\n",
    "bed_position_within_first_third_of_all_introns          = atrtd3_gtf_introns %>% select(V1, newstart, newend, V10, V6, V7)\n",
    "bed_position_within_first_third_of_all_introns$newstart = format(bed_position_within_first_third_of_all_introns$newstart, scientific = F)\n",
    "bed_position_within_first_third_of_all_introns$newend   = format(bed_position_within_first_third_of_all_introns$newend, scientific = F)\n",
    "\n",
    "write.table(bed_position_within_first_third_of_all_introns, \"bed_position_at_onethird_of_all_introns.bed\", quote = F, col.names = F, row.names = F, sep = \"\\t\")"
   ]
  },
  {
   "cell_type": "code",
   "execution_count": 18,
   "metadata": {
    "vscode": {
     "languageId": "r"
    }
   },
   "outputs": [],
   "source": [
    "#i also just want a bed file with all introns to use for background in motif discovery\n",
    "\n",
    "atrtd3_gtf_introns = read.table(\"results/atRTD3_TS_21Feb22_transfix_introns.gtf\")  %>% \n",
    "                     filter(V3 == \"intron\")                                        %>%\n",
    "                     select(V1, V4, V5, V10, V6, V7)                               %>%\n",
    "                     distinct(.keep_all =  T)\n",
    "\n"
   ]
  },
  {
   "cell_type": "code",
   "execution_count": 19,
   "metadata": {
    "vscode": {
     "languageId": "r"
    }
   },
   "outputs": [],
   "source": [
    "write.table(atrtd3_gtf_introns, \"bed_all_introns_atrtd3.bed\", quote = F, col.names = F, row.names = F, sep = \"\\t\")"
   ]
  },
  {
   "cell_type": "code",
   "execution_count": null,
   "metadata": {
    "vscode": {
     "languageId": "r"
    }
   },
   "outputs": [],
   "source": [
    "#now I want to also extract alle the \"canonical polyA sites\" - or better: The ones that get used by the WT. So if a pA event is classified as enhanced, i want to extract the proximal position\n",
    "#if it is classified as repressed, i want to extract the distal PAS\n",
    "#i want to get the corresponding WT site for each significantly differently used pA site.\n",
    "\n",
    "\n",
    "#filter proximal repressed composite sites\n",
    "u1c_proximal_pa_repressed_composite_wt_site     = u1c_repressed_composite   %>% select(chr, distal_pos, proximal_pos, gene_id, gene_class, strand) %>% mutate(proximal_pos = distal_pos+1, gene_class = \".\")\n",
    "u170k_proximal_pa_repressed_composite_wt_site   = u170k_repressed_composite %>% select(chr, distal_pos, proximal_pos, gene_id, gene_class, strand) %>% mutate(proximal_pos = distal_pos+1, gene_class = \".\")"
   ]
  },
  {
   "cell_type": "code",
   "execution_count": 14,
   "metadata": {
    "vscode": {
     "languageId": "r"
    }
   },
   "outputs": [],
   "source": [
    "#distal sites corresponding to the composite repressed proximal sites \n",
    "bed_distal_sites_where_u170k_comp_rep_pos = u170k_repressed_composite                %>%\n",
    "    select(chr, distal_pos, proximal_pos,  gene_id, gene_class, strand) %>% \n",
    "    filter(strand == \"+\")                                               %>%\n",
    "    group_by(gene_id)                                                   %>%\n",
    "\n",
    "    #here i make sure i dont take several pAs from the same gene but take the most proximal one\n",
    "    slice_min(order_by = distal_pos, n = 1)                             %>%\n",
    "    mutate(proximal_pos = distal_pos+1, gene_class = \".\")\n",
    "\n",
    "\n",
    "bed_distal_sites_where_u170k_comp_rep_neg = u170k_repressed_composite                %>%\n",
    "    select(chr, proximal_pos, distal_pos,  gene_id, gene_class, strand)     %>%\n",
    "    filter(strand == \"-\")                                               %>%\n",
    "    group_by(gene_id)                                                   %>%  \n",
    "\n",
    "    #here i make sure i dont take several pAs from the same gene but take the most proximal one\n",
    "    slice_max(order_by = distal_pos, n = 1)                             %>%\n",
    "    mutate(proximal_pos = distal_pos-1, gene_class = \".\")\n",
    "\n",
    "colnames(bed_distal_sites_where_u170k_comp_rep_neg) = colnames(bed_distal_sites_where_u170k_comp_rep_pos)\n",
    "bed_distal_sites_where_u170k_comp_rep = rbind(bed_distal_sites_where_u170k_comp_rep_neg, bed_distal_sites_where_u170k_comp_rep_pos)"
   ]
  },
  {
   "cell_type": "code",
   "execution_count": 13,
   "metadata": {
    "vscode": {
     "languageId": "r"
    }
   },
   "outputs": [],
   "source": [
    "#distal sites corresponding to the composite repressed proximal sites \n",
    "bed_distal_sites_where_u1c_comp_rep_pos = u1c_repressed_composite       %>%\n",
    "    select(chr, distal_pos, proximal_pos,  gene_id, gene_class, strand) %>% \n",
    "    filter(strand == \"+\")                                               %>%\n",
    "    group_by(gene_id)                                                   %>%\n",
    "\n",
    "    #here i make sure i dont take several pAs from the same gene but take the most proximal one\n",
    "    slice_min(order_by = distal_pos, n = 1)                             %>%\n",
    "    mutate(proximal_pos = distal_pos+1, gene_class = \".\")\n",
    "\n",
    "\n",
    "bed_distal_sites_where_u1c_comp_rep_neg = u1c_repressed_composite       %>%\n",
    "    select(chr, proximal_pos, distal_pos,  gene_id, gene_class, strand) %>%\n",
    "    filter(strand == \"-\")                                               %>%\n",
    "    group_by(gene_id)                                                   %>%  \n",
    "\n",
    "    #here i make sure i dont take several pAs from the same gene but take the most proximal one\n",
    "    slice_max(order_by = distal_pos, n = 1)                             %>%\n",
    "    mutate(proximal_pos = distal_pos-1, gene_class = \".\")\n",
    "\n",
    "colnames(bed_distal_sites_where_u1c_comp_rep_neg) = colnames(bed_distal_sites_where_u1c_comp_rep_pos)\n",
    "bed_distal_sites_where_u1c_comp_rep = rbind(bed_distal_sites_where_u1c_comp_rep_neg, bed_distal_sites_where_u1c_comp_rep_pos)"
   ]
  },
  {
   "cell_type": "code",
   "execution_count": 15,
   "metadata": {
    "vscode": {
     "languageId": "r"
    }
   },
   "outputs": [],
   "source": [
    "write.table(bed_distal_sites_where_u1c_comp_rep,     file = \"distal_pA_where_comp_rep_u1c.bed\",      quote = F, row.names = F, col.names = F, sep = \"\\t\")\n",
    "write.table(bed_distal_sites_where_u170k_comp_rep,   file = \"distal_pA_where_comp_rep_u170k.bed\",    quote = F, row.names = F, col.names = F, sep = \"\\t\")"
   ]
  },
  {
   "cell_type": "code",
   "execution_count": 4,
   "metadata": {
    "vscode": {
     "languageId": "r"
    }
   },
   "outputs": [],
   "source": [
    "#now get one bed file with overlap of the strongest pA sites in WT as a reference for cannonical pA sites\n",
    "\n",
    "\n",
    "ns_distal = all_events %>% filter((proximal_control_sum.x < distal_control_sum.x | proximal_control_sum.y < distal_control_sum.y) & ((gene_class.x == \"control_up\" | gene_class.x == \"control_down\") & (gene_class.y == \"control_up\" | gene_class.y == \"control_down\"))) \n",
    "ns_proximal = all_events %>% filter((proximal_control_sum.x > distal_control_sum.x | proximal_control_sum.y > distal_control_sum.y) & ((gene_class.x == \"control_up\" | gene_class.x == \"control_down\") & (gene_class.y == \"control_up\" | gene_class.y == \"control_down\"))) \n",
    "\n",
    "\n",
    "\n",
    "\n",
    "bed_ns_distal_pos = ns_distal                                           %>%\n",
    "    select(chr, distal_pos, proximal_pos,  gene_id, gene_name, strand)  %>%\n",
    "    filter(strand == \"+\")                                               %>%\n",
    "    mutate(proximal_pos = distal_pos+1, gene_name = \".\")\n",
    "\n",
    "\n",
    "bed_ns_distal_pos_neg = ns_distal                                     %>%\n",
    "    select(chr, proximal_pos, distal_pos,  gene_id, gene_name, strand) %>%\n",
    "    filter(strand == \"-\")                                               %>%\n",
    "    mutate(proximal_pos = distal_pos-1, gene_name = \".\")\n",
    "\n",
    "colnames(bed_ns_distal_pos_neg) = colnames(bed_ns_distal_pos)\n",
    "bed_ns_distal = rbind(bed_ns_distal_pos_neg, bed_ns_distal_pos)\n",
    "\n",
    "\n",
    "\n",
    "\n",
    "\n",
    "bed_ns_proximal_pos = ns_proximal                                     %>%\n",
    "    select(chr, proximal_pos, distal_pos,  gene_id, gene_name, strand) %>%\n",
    "    filter(strand == \"+\")                                               %>%\n",
    "    mutate(distal_pos = proximal_pos+1, gene_name = \".\")\n",
    "\n",
    "\n",
    "bed_ns_proximal_pos_neg = ns_proximal                                 %>%\n",
    "    select(chr, distal_pos, proximal_pos, gene_id, gene_name, strand)  %>%\n",
    "    filter(strand == \"-\")                                               %>%\n",
    "    mutate(distal_pos = proximal_pos-1, gene_name = \".\")\n",
    "\n",
    "colnames(bed_ns_proximal_pos_neg) = colnames(bed_ns_proximal_pos)\n",
    "bed_ns_proximal = rbind(bed_ns_proximal_pos_neg, bed_ns_proximal_pos)\n",
    "\n",
    "bed_ns = rbind(bed_ns_distal, bed_ns_proximal)\n"
   ]
  },
  {
   "cell_type": "code",
   "execution_count": 5,
   "metadata": {
    "vscode": {
     "languageId": "r"
    }
   },
   "outputs": [
    {
     "data": {
      "text/plain": [
       "      chr          distal_pos        proximal_pos        gene_id         \n",
       " Min.   :1.000   Min.   :   13126   Min.   :   13127   Length:1765       \n",
       " 1st Qu.:1.000   1st Qu.: 6063032   1st Qu.: 6063031   Class :character  \n",
       " Median :3.000   Median :11381561   Median :11381562   Mode  :character  \n",
       " Mean   :2.958   Mean   :12627960   Mean   :12627960                     \n",
       " 3rd Qu.:4.000   3rd Qu.:18867012   3rd Qu.:18867013                     \n",
       " Max.   :5.000   Max.   :30412147   Max.   :30412148                     \n",
       "  gene_name            strand         \n",
       " Length:1765        Length:1765       \n",
       " Class :character   Class :character  \n",
       " Mode  :character   Mode  :character  \n",
       "                                      \n",
       "                                      \n",
       "                                      "
      ]
     },
     "metadata": {},
     "output_type": "display_data"
    }
   ],
   "source": [
    "write.table(bed_ns,     file = \"non_affected_WT_consensus_pA_sites.bed\",      quote = F, row.names = F, col.names = F, sep = \"\\t\")\n",
    "summary(bed_ns)"
   ]
  },
  {
   "cell_type": "code",
   "execution_count": 15,
   "metadata": {
    "vscode": {
     "languageId": "r"
    }
   },
   "outputs": [
    {
     "data": {
      "text/plain": [
       "R version 4.2.2 (2022-10-31 ucrt)\n",
       "Platform: x86_64-w64-mingw32/x64 (64-bit)\n",
       "Running under: Windows 10 x64 (build 22631)\n",
       "\n",
       "Matrix products: default\n",
       "\n",
       "locale:\n",
       "[1] LC_COLLATE=English_Germany.utf8  LC_CTYPE=English_Germany.utf8   \n",
       "[3] LC_MONETARY=English_Germany.utf8 LC_NUMERIC=C                    \n",
       "[5] LC_TIME=English_Germany.utf8    \n",
       "\n",
       "attached base packages:\n",
       "[1] stats     graphics  grDevices utils     datasets  methods   base     \n",
       "\n",
       "other attached packages:\n",
       "[1] dplyr_1.1.4\n",
       "\n",
       "loaded via a namespace (and not attached):\n",
       " [1] magrittr_2.0.3   tidyselect_1.2.0 uuid_1.2-0       R6_2.5.1        \n",
       " [5] rlang_1.1.2      fastmap_1.1.1    fansi_1.0.6      tools_4.2.2     \n",
       " [9] utf8_1.2.4       cli_3.6.2        withr_2.5.2      htmltools_0.5.7 \n",
       "[13] digest_0.6.34    tibble_3.2.1     lifecycle_1.0.4  crayon_1.5.2    \n",
       "[17] IRdisplay_1.1    repr_1.1.6       base64enc_0.1-3  vctrs_0.6.5     \n",
       "[21] IRkernel_1.3.2   glue_1.6.2       evaluate_0.23    pbdZMQ_0.3-10   \n",
       "[25] compiler_4.2.2   pillar_1.9.0     generics_0.1.3   jsonlite_1.8.8  \n",
       "[29] pkgconfig_2.0.3 "
      ]
     },
     "metadata": {},
     "output_type": "display_data"
    }
   ],
   "source": [
    "sessionInfo()"
   ]
  }
 ],
 "metadata": {
  "kernelspec": {
   "display_name": "R",
   "language": "R",
   "name": "ir"
  },
  "language_info": {
   "codemirror_mode": "r",
   "file_extension": ".r",
   "mimetype": "text/x-r-source",
   "name": "R",
   "pygments_lexer": "r",
   "version": "4.2.2"
  },
  "orig_nbformat": 4
 },
 "nbformat": 4,
 "nbformat_minor": 2
}
