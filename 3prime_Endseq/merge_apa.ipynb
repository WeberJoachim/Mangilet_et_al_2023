{
 "cells": [
  {
   "cell_type": "code",
   "execution_count": 2,
   "metadata": {
    "vscode": {
     "languageId": "r"
    }
   },
   "outputs": [],
   "source": [
    "suppressMessages(library(\"dplyr\"))    # 1.1.2"
   ]
  },
  {
   "cell_type": "code",
   "execution_count": 3,
   "metadata": {
    "vscode": {
     "languageId": "r"
    }
   },
   "outputs": [],
   "source": [
    "#read in apa results provided by Gregor Roth using the apa analysis pipeline at https://www.expressrna.org/\n",
    "\n",
    "u1c     = read.csv(\"results_apa_amirR-u1c.csv\",     row.names = 1)\n",
    "u170k   = read.csv(\"results_apa_amirR-u170k.csv\",   row.names = 1)"
   ]
  },
  {
   "cell_type": "code",
   "execution_count": 4,
   "metadata": {
    "vscode": {
     "languageId": "r"
    }
   },
   "outputs": [
    {
     "name": "stdout",
     "output_type": "stream",
     "text": [
      "[1] \"The number of enhanced PAS in u1c is 467\"\n",
      "[1] \"The number of repressed PAS in u1c is 693\"\n",
      "[1] \"The number of enhanced PAS in u170k is 467\"\n",
      "[1] \"The number of repressed PAS in u170k is 484\"\n",
      "[1] \"The overlap of enhanced PAS between u1c and u170k is 176\"\n",
      "[1] \"The overlap of repressed PAS between u1c and u170k is 102\"\n",
      "[1] \"The number of enhanced composite PAS in u1c is 10\"\n",
      "[1] \"The number of repressed composite PAS in u1c is 93\"\n",
      "[1] \"The number of enhanced composite PAS in u170k is 18\"\n",
      "[1] \"The number of repressed composite PAS in u170k is 279\"\n"
     ]
    }
   ],
   "source": [
    "#get all overlapping events\n",
    "all_events = merge(u1c, u170k, by = c(1,2,3,4,5,6,7,8,10,12,14), all = TRUE)\n",
    "\n",
    "#check individual events for enhanced/repressed\n",
    "enhanced_u1c = nrow(u170k %>% filter(gene_class == \"enhanced\"))\n",
    "print(paste0(\"The number of enhanced PAS in u1c is \", enhanced_u1c))\n",
    "\n",
    "repressed_u1c = nrow(u1c %>% filter(gene_class == \"repressed\"))\n",
    "print(paste0(\"The number of repressed PAS in u1c is \", repressed_u1c))\n",
    "\n",
    "enhanced_u170k = nrow(u170k %>% filter(gene_class == \"enhanced\"))\n",
    "print(paste0(\"The number of enhanced PAS in u170k is \", enhanced_u170k))\n",
    "\n",
    "repressed_u170k = nrow(u170k %>% filter(gene_class == \"repressed\"))\n",
    "print(paste0(\"The number of repressed PAS in u170k is \", repressed_u170k))\n",
    "\n",
    "\n",
    "#get the overlap\n",
    "overlap_enhanced    = merge(u1c %>% filter(gene_class == \"enhanced\"),   u170k %>% filter(gene_class == \"enhanced\"),     by = c(1,2,3,4,5,6,8,9,10,12,14,35), suffixes = c(\"_u1c\", \"_u170k\"))\n",
    "overlap_repressed   = merge(u1c %>% filter(gene_class == \"repressed\"),  u170k %>% filter(gene_class == \"repressed\"),    by = c(1,2,3,4,5,6,8,9,10,12,14,35), suffixes = c(\"_u1c\", \"_u170k\"))\n",
    "\n",
    "print(paste0(\"The overlap of enhanced PAS between u1c and u170k is \",   nrow(overlap_enhanced)))\n",
    "print(paste0(\"The overlap of repressed PAS between u1c and u170k is \",  nrow(overlap_repressed)))\n",
    "\n",
    "\n",
    "#define every type by genotype, eventtype and direction of change\n",
    "u1c_enhanced_composite      = u1c %>% filter(pair_type == \"composite\"       & gene_class == \"enhanced\")\n",
    "u1c_enhanced_same           = u1c %>% filter(pair_type == \"same\"            & gene_class == \"enhanced\")\n",
    "u1c_enhanced_skipped        = u1c %>% filter(pair_type == \"skipped\"         & gene_class == \"enhanced\")\n",
    "u1c_repressed_composite     = u1c %>% filter(pair_type == \"composite\"       & gene_class == \"repressed\")\n",
    "u1c_repressed_same          = u1c %>% filter(pair_type == \"same\"            & gene_class == \"repressed\")\n",
    "u1c_repressed_skipped       = u1c %>% filter(pair_type == \"skipped\"         & gene_class == \"repressed\")\n",
    "\n",
    "\n",
    "u170k_enhanced_composite    = u170k %>% filter(pair_type == \"composite\"     & gene_class == \"enhanced\")\n",
    "u170k_enhanced_same         = u170k %>% filter(pair_type == \"same\"          & gene_class == \"enhanced\")\n",
    "u170k_enhanced_skipped      = u170k %>% filter(pair_type == \"skipped\"       & gene_class == \"enhanced\")\n",
    "u170k_repressed_composite   = u170k %>% filter(pair_type == \"composite\"     & gene_class == \"repressed\")\n",
    "u170k_repressed_same        = u170k %>% filter(pair_type == \"same\"          & gene_class == \"repressed\")\n",
    "u170k_repressed_skipped     = u170k %>% filter(pair_type == \"skipped\"       & gene_class == \"repressed\")\n",
    "\n",
    "\n",
    "print(paste0(\"The number of enhanced composite PAS in u1c is \",     nrow(u1c_enhanced_composite)))\n",
    "print(paste0(\"The number of repressed composite PAS in u1c is \",    nrow(u1c_repressed_composite)))\n",
    "\n",
    "print(paste0(\"The number of enhanced composite PAS in u170k is \",   nrow(u170k_enhanced_composite)))\n",
    "print(paste0(\"The number of repressed composite PAS in u170k is \",  nrow(u170k_repressed_composite)))\n"
   ]
  },
  {
   "cell_type": "code",
   "execution_count": 5,
   "metadata": {
    "vscode": {
     "languageId": "r"
    }
   },
   "outputs": [],
   "source": [
    "#get the overlaps\n",
    "#this is a pretty restrictive merging. The both polyA sites need to be at the exact same position\n",
    "ski_rep     = merge(u1c %>% filter(pair_type == \"skipped\"   & gene_class == \"repressed\"),    u170k %>% filter(pair_type == \"skipped\"   & gene_class == \"repressed\"), by = c(1,2,3,4,5,6,8,9,10,12,14,34,35), suffixes = c(\"_u1c\", \"_u170k\"))\n",
    "same_rep    = merge(u1c %>% filter(pair_type == \"same\"      & gene_class == \"repressed\"),    u170k %>% filter(pair_type == \"same\"      & gene_class == \"repressed\"), by = c(1,2,3,4,5,6,8,9,10,12,14,34,35), suffixes = c(\"_u1c\", \"_u170k\"))\n",
    "comp_rep    = merge(u1c %>% filter(pair_type == \"composite\" & gene_class == \"repressed\"),    u170k %>% filter(pair_type == \"composite\" & gene_class == \"repressed\"), by = c(1,2,3,4,5,6,8,9,10,12,14,34,35), suffixes = c(\"_u1c\", \"_u170k\"))\n",
    "ski_enh     = merge(u1c %>% filter(pair_type == \"skipped\"   & gene_class == \"enhanced\"),     u170k %>% filter(pair_type == \"skipped\"   & gene_class == \"enhanced\"),  by = c(1,2,3,4,5,6,8,9,10,12,14,34,35), suffixes = c(\"_u1c\", \"_u170k\"))\n",
    "same_enh    = merge(u1c %>% filter(pair_type == \"same\"      & gene_class == \"enhanced\"),     u170k %>% filter(pair_type == \"same\"      & gene_class == \"enhanced\"),  by = c(1,2,3,4,5,6,8,9,10,12,14,34,35), suffixes = c(\"_u1c\", \"_u170k\"))\n",
    "comp_enh    = merge(u1c %>% filter(pair_type == \"composite\" & gene_class == \"enhanced\"),     u170k %>% filter(pair_type == \"composite\" & gene_class == \"enhanced\"),  by = c(1,2,3,4,5,6,8,9,10,12,14,34,35), suffixes = c(\"_u1c\", \"_u170k\"))"
   ]
  },
  {
   "cell_type": "code",
   "execution_count": 6,
   "metadata": {
    "vscode": {
     "languageId": "r"
    }
   },
   "outputs": [
    {
     "data": {
      "text/html": [
       "38"
      ],
      "text/latex": [
       "38"
      ],
      "text/markdown": [
       "38"
      ],
      "text/plain": [
       "[1] 38"
      ]
     },
     "metadata": {},
     "output_type": "display_data"
    }
   ],
   "source": [
    "#get number of comp_rep events\n",
    "nrow(comp_rep)"
   ]
  },
  {
   "cell_type": "code",
   "execution_count": 7,
   "metadata": {
    "vscode": {
     "languageId": "r"
    }
   },
   "outputs": [],
   "source": [
    "#write output tables\n",
    "write.table(x = same_enh,   \"overlap_apa_enhanced_same_exon\",        row.names = F, col.names = F, quote = F)\n",
    "write.table(x = ski_enh,    \"overlap_apa_enhanced_skipped_exon\",     row.names = F, col.names = F, quote = F)\n",
    "write.table(x = comp_enh,   \"overlap_apa_enhanced_composite_exon\",   row.names = F, col.names = F, quote = F)\n",
    "write.table(x = same_rep,   \"overlap_apa_repressed_same_exon\",       row.names = F, col.names = F, quote = F)\n",
    "write.table(x = ski_rep,    \"overlap_apa_repressed_skipped_exon\",    row.names = F, col.names = F, quote = F)\n",
    "write.table(x = comp_rep,   \"overlap_apa_repressed_composite_exon\",  row.names = F, col.names = F, quote = F)"
   ]
  },
  {
   "cell_type": "code",
   "execution_count": 7,
   "metadata": {
    "vscode": {
     "languageId": "r"
    }
   },
   "outputs": [
    {
     "data": {
      "text/html": [
       "1.45839396774475e-73"
      ],
      "text/latex": [
       "1.45839396774475e-73"
      ],
      "text/markdown": [
       "1.45839396774475e-73"
      ],
      "text/plain": [
       "[1] 1.458394e-73"
      ]
     },
     "metadata": {},
     "output_type": "display_data"
    }
   ],
   "source": [
    "#test for significant over-representation in overlap of enhanced PAS\n",
    "phyper(nrow(overlap_enhanced)-1, enhanced_u1c, nrow(all_events)-enhanced_u1c, enhanced_u170k, lower.tail = FALSE)"
   ]
  },
  {
   "cell_type": "code",
   "execution_count": 8,
   "metadata": {
    "vscode": {
     "languageId": "r"
    }
   },
   "outputs": [
    {
     "data": {
      "text/html": [
       "1.23701752951033e-06"
      ],
      "text/latex": [
       "1.23701752951033e-06"
      ],
      "text/markdown": [
       "1.23701752951033e-06"
      ],
      "text/plain": [
       "[1] 1.237018e-06"
      ]
     },
     "metadata": {},
     "output_type": "display_data"
    }
   ],
   "source": [
    "#test for significant over-representation in overlap of repressed PAS\n",
    "phyper(nrow(overlap_repressed)-1, repressed_u1c, nrow(all_events)-repressed_u1c, repressed_u170k, lower.tail = FALSE)"
   ]
  },
  {
   "cell_type": "code",
   "execution_count": 9,
   "metadata": {
    "vscode": {
     "languageId": "r"
    }
   },
   "outputs": [
    {
     "data": {
      "text/html": [
       "1.18833919161055e-24"
      ],
      "text/latex": [
       "1.18833919161055e-24"
      ],
      "text/markdown": [
       "1.18833919161055e-24"
      ],
      "text/plain": [
       "[1] 1.188339e-24"
      ]
     },
     "metadata": {},
     "output_type": "display_data"
    }
   ],
   "source": [
    "#test for significant over-representation in overlap of repressed composite PAS\n",
    "phyper(nrow(comp_rep)-1, nrow(u1c_repressed_composite), nrow(all_events)-nrow(u1c_repressed_composite), nrow(u170k_repressed_composite), lower.tail = FALSE)"
   ]
  },
  {
   "cell_type": "code",
   "execution_count": 10,
   "metadata": {
    "vscode": {
     "languageId": "r"
    }
   },
   "outputs": [
    {
     "data": {
      "text/html": [
       "7.48109828624232e-11"
      ],
      "text/latex": [
       "7.48109828624232e-11"
      ],
      "text/markdown": [
       "7.48109828624232e-11"
      ],
      "text/plain": [
       "[1] 7.481098e-11"
      ]
     },
     "metadata": {},
     "output_type": "display_data"
    }
   ],
   "source": [
    "#test for significant over-representation in overlap of enhanced composite PAS\n",
    "phyper(nrow(comp_enh)-1, nrow(u1c_enhanced_composite), nrow(all_events)-nrow(u1c_enhanced_composite), nrow(u170k_enhanced_composite), lower.tail = FALSE)"
   ]
  },
  {
   "cell_type": "markdown",
   "metadata": {},
   "source": [
    "###3. Analysis for revision\n",
    "\n",
    "3.1 Make bed files to search for denovo and known motifs around the pA sites and unrelated introns at the same relative position as the polyA-Sites"
   ]
  },
  {
   "cell_type": "code",
   "execution_count": 11,
   "metadata": {
    "vscode": {
     "languageId": "r"
    }
   },
   "outputs": [],
   "source": [
    "#filter proximal repressed composite sites\n",
    "u1c_proximal_pa_repressed_composite     = u1c_repressed_composite   %>% select(chr, proximal_pos, distal_pos, gene_id, gene_class, strand) %>% mutate(distal_pos = proximal_pos+1, gene_class = \".\")\n",
    "u170k_proximal_pa_repressed_composite   = u170k_repressed_composite %>% select(chr, proximal_pos, distal_pos, gene_id, gene_class, strand) %>% mutate(distal_pos = proximal_pos+1, gene_class = \".\")"
   ]
  },
  {
   "cell_type": "code",
   "execution_count": 17,
   "metadata": {
    "vscode": {
     "languageId": "r"
    }
   },
   "outputs": [],
   "source": [
    "#The way my workflow works currently, is that i need an interval of at least length 2 in my bedfile. So i extend the proximal position by 1 downstream.\n",
    "#u170k\n",
    "\n",
    "bed_proximal_sites_u170k_pos = u170k_proximal_pa_repressed_composite    %>% \n",
    "    filter(strand == \"+\")                                               %>%\n",
    "    group_by(gene_id)                                                   %>%\n",
    "\n",
    "    #here i make sure i dont take several pAs from the same gene but take the most proximal one\n",
    "    slice_min(order_by = proximal_pos, n = 1)                           %>%\n",
    "\n",
    "    #gene class is just a place holder\n",
    "    select(chr, proximal_pos, distal_pos, gene_id, gene_class, strand)  %>%\n",
    "    mutate(distal_pos = proximal_pos+1, gene_class = \".\")\n",
    "\n",
    "\n",
    "bed_proximal_sites_u170k_neg = u170k_proximal_pa_repressed_composite    %>% \n",
    "    filter(strand == \"-\")                                               %>%\n",
    "    group_by(gene_id)                                                   %>%  \n",
    "\n",
    "    #here i make sure i dont take several pAs from the same gene but take the most proximal one\n",
    "    slice_max(order_by = proximal_pos, n = 1)                           %>%\n",
    "\n",
    "    #gene class is just a place holder\n",
    "    select(chr, distal_pos, proximal_pos, gene_id, gene_class, strand)  %>%\n",
    "    mutate(distal_pos = proximal_pos-1, gene_class = \".\")\n",
    "\n",
    "colnames(bed_proximal_sites_u170k_neg) = colnames(bed_proximal_sites_u170k_pos)\n",
    "bed_proximal_sites_u170k = rbind(bed_proximal_sites_u170k_neg, bed_proximal_sites_u170k_pos)"
   ]
  },
  {
   "cell_type": "code",
   "execution_count": 20,
   "metadata": {
    "vscode": {
     "languageId": "r"
    }
   },
   "outputs": [],
   "source": [
    "#u1c. I look at both individually because the overlap is too small for me to realisticly see anything\n",
    "\n",
    "bed_proximal_sites_u1c_pos = u1c_proximal_pa_repressed_composite        %>% \n",
    "    filter(strand == \"+\")                                               %>%\n",
    "    group_by(gene_id)                                                   %>%\n",
    "\n",
    "    #here i make sure i dont take several pAs from the same gene but take the most proximal one\n",
    "    slice_min(order_by = proximal_pos, n = 1)                           %>%\n",
    "\n",
    "    #gene class is just a place holder\n",
    "    select(chr, proximal_pos, distal_pos, gene_id, gene_class, strand)  %>%\n",
    "    mutate(distal_pos = proximal_pos+1, gene_class = \".\")\n",
    "\n",
    "\n",
    "bed_proximal_sites_u1c_neg = u1c_proximal_pa_repressed_composite        %>% \n",
    "    filter(strand == \"-\")                                               %>%\n",
    "    group_by(gene_id)                                                   %>%  \n",
    "\n",
    "    #here i make sure i dont take several pAs from the same gene but take the most proximal one\n",
    "    slice_max(order_by = proximal_pos, n = 1)                           %>%\n",
    "\n",
    "    #gene class is just a place holder\n",
    "    select(chr, distal_pos, proximal_pos, gene_id, gene_class, strand)  %>%\n",
    "    mutate(distal_pos = proximal_pos-1, gene_class = \".\")\n",
    "\n",
    "colnames(bed_proximal_sites_u1c_neg) = colnames(bed_proximal_sites_u1c_pos)\n",
    "bed_proximal_sites_u1c = rbind(bed_proximal_sites_u1c_neg, bed_proximal_sites_u1c_pos)"
   ]
  },
  {
   "cell_type": "code",
   "execution_count": 23,
   "metadata": {
    "vscode": {
     "languageId": "r"
    }
   },
   "outputs": [],
   "source": [
    "write.table(bed_proximal_sites_u1c,     file = \"proximal_pA_comp_rep_u1c.bed\",      quote = F, row.names = F, col.names = F, sep = \"\\t\")\n",
    "write.table(bed_proximal_sites_u170k,   file = \"proximal_pA_comp_rep_u170k.bed\",    quote = F, row.names = F, col.names = F, sep = \"\\t\")"
   ]
  },
  {
   "cell_type": "markdown",
   "metadata": {
    "vscode": {
     "languageId": "r"
    }
   },
   "source": [
    "#create bed files for background used for homer and nucleotide frequency plotting\n",
    "\n",
    "# first i want a set of intronic regions around the same relative position, that the intronic polyA-Sites are located. By this i mean the proximal pA - sites from comp repressed events.\n",
    "# therefore i need to determine the relative position first:"
   ]
  },
  {
   "cell_type": "code",
   "execution_count": null,
   "metadata": {
    "vscode": {
     "languageId": "r"
    }
   },
   "outputs": [],
   "source": [
    "distances_u1c   = read.table(\"distance_intronboundaries_to_proximal_pA_comp_rep_u1c\")   %>% \n",
    "    select(V1, V3, V4, V5, V6, V7, V10, V22, V23, V24, V26)                             %>%\n",
    "    distinct(.keep_all = T)                                                             %>%\n",
    "    filter(V24 == V10 & V3 == \"intron\")                                                 %>%\n",
    "    mutate(intron_length = abs(V4-V5), dstart = \".\", dend = \".\")\n",
    "\n",
    "\n",
    "distances_u170k = read.table(\"distance_intronboundaries_to_proximal_pA_comp_rep_u170k\") %>% \n",
    "    select(V1, V3, V4, V5, V6, V7, V10, V22, V23, V24, V26)                             %>%\n",
    "    distinct(.keep_all = T)                                                             %>%\n",
    "    filter(V24 == V10 & V3 == \"intron\")                                                 %>%\n",
    "    mutate(intron_length = abs(V4-V5), dstart = \".\", dend = \".\")"
   ]
  },
  {
   "cell_type": "code",
   "execution_count": null,
   "metadata": {
    "vscode": {
     "languageId": "r"
    }
   },
   "outputs": [],
   "source": [
    "#calculate distances\n",
    "\n",
    "for(i in 1:nrow(distances_u1c)){\n",
    "  if(distances_u1c[i,\"V7\"] == \"+\"){\n",
    "    distances_u1c[i,\"dstart\"] = distances_u1c[i,\"V22\"] - distances_u1c[i,\"V4\"]\n",
    "    distances_u1c[i,\"dend\"]   = distances_u1c[i,\"V5\"] - distances_u1c[i,\"V23\"]\n",
    "  }\n",
    "  if(distances_u1c[i,\"V7\"] == \"-\"){\n",
    "    distances_u1c[i,\"dstart\"] = distances_u1c[i,\"V5\"] - distances_u1c[i,\"V23\"]\n",
    "    distances_u1c[i,\"dend\"]   = distances_u1c[i,\"V22\"] - distances_u1c[i,\"V4\"]\n",
    "  }\n",
    "}\n",
    "\n",
    "\n",
    "for(i in 1:nrow(distances_u170k)){\n",
    "  if(distances_u170k[i,\"V7\"] == \"+\"){\n",
    "    distances_u170k[i,\"dstart\"] = distances_u170k[i,\"V22\"] - distances_u170k[i,\"V4\"]\n",
    "    distances_u170k[i,\"dend\"]   = distances_u170k[i,\"V5\"] - distances_u170k[i,\"V23\"]\n",
    "  }\n",
    "  if(distances_u170k[i,\"V7\"] == \"-\"){\n",
    "    distances_u170k[i,\"dstart\"] = distances_u170k[i,\"V5\"] - distances_u170k[i,\"V23\"]\n",
    "    distances_u170k[i,\"dend\"]   = distances_u170k[i,\"V22\"] - distances_u170k[i,\"V4\"]\n",
    "  }\n",
    "}"
   ]
  },
  {
   "cell_type": "code",
   "execution_count": null,
   "metadata": {
    "vscode": {
     "languageId": "r"
    }
   },
   "outputs": [],
   "source": [
    "#normalise to intron length\n",
    "distances_u1c = distances_u1c       %>% mutate(rel_dstart = as.numeric(dstart)/intron_length, rel_dend = as.numeric(dend)/intron_length)\n",
    "distances_u170k = distances_u170k   %>% mutate(rel_dstart = as.numeric(dstart)/intron_length, rel_dend = as.numeric(dend)/intron_length)"
   ]
  },
  {
   "cell_type": "code",
   "execution_count": null,
   "metadata": {
    "vscode": {
     "languageId": "r"
    }
   },
   "outputs": [],
   "source": [
    "#plot histograms\n",
    "hist(distances_u1c$rel_dstart)\n",
    "hist(distances_u1c$rel_dend)\n",
    "hist(distances_u170k$rel_dstart)\n",
    "hist(distances_u170k$rel_dend)"
   ]
  },
  {
   "cell_type": "code",
   "execution_count": null,
   "metadata": {
    "vscode": {
     "languageId": "r"
    }
   },
   "outputs": [],
   "source": [
    "#get exact mean and median\n",
    "summary(distances_u1c)\n",
    "summary(distances_u170k)"
   ]
  },
  {
   "cell_type": "code",
   "execution_count": null,
   "metadata": {
    "vscode": {
     "languageId": "r"
    }
   },
   "outputs": [],
   "source": [
    "#now take intron gtf and create new bedfile at the position\n",
    "\n",
    "tair10_gff_introns = read.table(\"results/scripts/atRTD3_TS_21Feb22_transfix_with_introns.gtf\")  %>% \n",
    "                     filter(V3 == \"intron\")                                                   %>%\n",
    "                     select(V1, V4, V5, V10, V6, V7)                                          %>%\n",
    "                     distinct(.keep_all =  T)                                                 %>%\n",
    "                     mutate(newstart = NA, newend = NA)\n",
    "                     \n",
    "\n",
    "for(i in 1:nrow(tair10_gff_introns)){\n",
    "  if(tair10_gff_introns[i, \"V7\"] == \"+\"){\n",
    "    tair10_gff_introns[i, \"newstart\"] = round(abs(tair10_gff_introns[i, \"V5\"] - tair10_gff_introns[i, \"V4\"])*0.33803) + tair10_gff_introns[i, \"V4\"]\n",
    "    tair10_gff_introns[i, \"newend\"]   = tair10_gff_introns[i, \"newstart\"] + 1\n",
    "  }\n",
    "  \n",
    "  if(tair10_gff_introns[i, \"V7\"] == \"-\"){\n",
    "    tair10_gff_introns[i, \"newend\"] = tair10_gff_introns[i, \"V5\"] - round(abs(tair10_gff_introns[i, \"V5\"] - tair10_gff_introns[i, \"V4\"])*0.33803) \n",
    "    tair10_gff_introns[i, \"newstart\"]   = tair10_gff_introns[i, \"newend\"] - 1\n",
    "  }\n",
    "  \n",
    "}"
   ]
  },
  {
   "cell_type": "code",
   "execution_count": null,
   "metadata": {
    "vscode": {
     "languageId": "r"
    }
   },
   "outputs": [],
   "source": [
    "#combine and write to bed file\n",
    "bed_position_within_first_third_of_all_introns          = tair10_gff_introns %>% select(V1, newstart, newend, V10, V6, V7)\n",
    "bed_position_within_first_third_of_all_introns$newstart = format(bed_position_within_first_third_of_all_introns$newstart, scientific = F)\n",
    "bed_position_within_first_third_of_all_introns$newend   = format(bed_position_within_first_third_of_all_introns$newend, scientific = F)\n",
    "\n",
    "write.table(bed_position_within_first_third_of_all_introns, \"bed_position_at_onethird_of_all_introns.bed\", quote = F, col.names = F, row.names = F, sep = \"\\t\")"
   ]
  },
  {
   "cell_type": "code",
   "execution_count": 9,
   "metadata": {
    "vscode": {
     "languageId": "r"
    }
   },
   "outputs": [
    {
     "data": {
      "text/plain": [
       "R version 4.2.2 (2022-10-31 ucrt)\n",
       "Platform: x86_64-w64-mingw32/x64 (64-bit)\n",
       "Running under: Windows 10 x64 (build 22621)\n",
       "\n",
       "Matrix products: default\n",
       "\n",
       "locale:\n",
       "[1] LC_COLLATE=English_Germany.utf8  LC_CTYPE=English_Germany.utf8   \n",
       "[3] LC_MONETARY=English_Germany.utf8 LC_NUMERIC=C                    \n",
       "[5] LC_TIME=English_Germany.utf8    \n",
       "\n",
       "attached base packages:\n",
       "[1] stats     graphics  grDevices utils     datasets  methods   base     \n",
       "\n",
       "other attached packages:\n",
       "[1] dplyr_1.1.2\n",
       "\n",
       "loaded via a namespace (and not attached):\n",
       " [1] magrittr_2.0.3   tidyselect_1.2.0 uuid_1.1-0       R6_2.5.1        \n",
       " [5] rlang_1.1.1      fastmap_1.1.0    fansi_1.0.4      tools_4.2.2     \n",
       " [9] utf8_1.2.2       cli_3.6.0        htmltools_0.5.4  digest_0.6.31   \n",
       "[13] tibble_3.2.1     lifecycle_1.0.3  crayon_1.5.2     IRdisplay_1.1   \n",
       "[17] repr_1.1.6       base64enc_0.1-3  vctrs_0.6.2      IRkernel_1.3.2  \n",
       "[21] glue_1.6.2       evaluate_0.21    pbdZMQ_0.3-9     compiler_4.2.2  \n",
       "[25] pillar_1.9.0     generics_0.1.3   jsonlite_1.8.5   pkgconfig_2.0.3 "
      ]
     },
     "metadata": {},
     "output_type": "display_data"
    }
   ],
   "source": [
    "sessionInfo()"
   ]
  }
 ],
 "metadata": {
  "kernelspec": {
   "display_name": "R",
   "language": "R",
   "name": "ir"
  },
  "language_info": {
   "codemirror_mode": "r",
   "file_extension": ".r",
   "mimetype": "text/x-r-source",
   "name": "R",
   "pygments_lexer": "r",
   "version": "4.2.2"
  },
  "orig_nbformat": 4
 },
 "nbformat": 4,
 "nbformat_minor": 2
}
