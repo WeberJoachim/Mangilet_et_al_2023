{
 "cells": [
  {
   "cell_type": "code",
   "execution_count": 2,
   "metadata": {
    "vscode": {
     "languageId": "r"
    }
   },
   "outputs": [],
   "source": [
    "suppressMessages(library(\"dplyr\"))    # 1.1.2"
   ]
  },
  {
   "cell_type": "code",
   "execution_count": 3,
   "metadata": {
    "vscode": {
     "languageId": "r"
    }
   },
   "outputs": [],
   "source": [
    "#read in apa results provided by Gregor Roth using the apa analysis pipeline at https://www.expressrna.org/\n",
    "\n",
    "u1c     = read.csv(\"results_apa_amirR-u1c.csv\",     row.names = 1)\n",
    "u170k   = read.csv(\"results_apa_amirR-u170k.csv\",   row.names = 1)"
   ]
  },
  {
   "cell_type": "code",
   "execution_count": 4,
   "metadata": {
    "vscode": {
     "languageId": "r"
    }
   },
   "outputs": [
    {
     "name": "stdout",
     "output_type": "stream",
     "text": [
      "[1] \"The number of enhanced PAS in u1c is 467\"\n",
      "[1] \"The number of repressed PAS in u1c is 693\"\n",
      "[1] \"The number of enhanced PAS in u170k is 467\"\n",
      "[1] \"The number of repressed PAS in u170k is 484\"\n",
      "[1] \"The overlap of enhanced PAS between u1c and u170k is 176\"\n",
      "[1] \"The overlap of repressed PAS between u1c and u170k is 102\"\n",
      "[1] \"The number of enhanced composite PAS in u1c is 10\"\n",
      "[1] \"The number of repressed composite PAS in u1c is 93\"\n",
      "[1] \"The number of enhanced composite PAS in u170k is 18\"\n",
      "[1] \"The number of repressed composite PAS in u170k is 279\"\n"
     ]
    }
   ],
   "source": [
    "#get all overlapping events\n",
    "all_events = merge(u1c, u170k, by = c(1,2,3,4,5,6,7,8,10,12,14), all = TRUE)\n",
    "\n",
    "#check individual events for enhanced/repressed\n",
    "enhanced_u1c = nrow(u170k %>% filter(gene_class == \"enhanced\"))\n",
    "print(paste0(\"The number of enhanced PAS in u1c is \", enhanced_u1c))\n",
    "\n",
    "repressed_u1c = nrow(u1c %>% filter(gene_class == \"repressed\"))\n",
    "print(paste0(\"The number of repressed PAS in u1c is \", repressed_u1c))\n",
    "\n",
    "enhanced_u170k = nrow(u170k %>% filter(gene_class == \"enhanced\"))\n",
    "print(paste0(\"The number of enhanced PAS in u170k is \", enhanced_u170k))\n",
    "\n",
    "repressed_u170k = nrow(u170k %>% filter(gene_class == \"repressed\"))\n",
    "print(paste0(\"The number of repressed PAS in u170k is \", repressed_u170k))\n",
    "\n",
    "\n",
    "#get the overlap\n",
    "overlap_enhanced    = merge(u1c %>% filter(gene_class == \"enhanced\"),   u170k %>% filter(gene_class == \"enhanced\"),     by = c(1,2,3,4,5,6,8,9,10,12,14,35), suffixes = c(\"_u1c\", \"_u170k\"))\n",
    "overlap_repressed   = merge(u1c %>% filter(gene_class == \"repressed\"),  u170k %>% filter(gene_class == \"repressed\"),    by = c(1,2,3,4,5,6,8,9,10,12,14,35), suffixes = c(\"_u1c\", \"_u170k\"))\n",
    "\n",
    "print(paste0(\"The overlap of enhanced PAS between u1c and u170k is \",   nrow(overlap_enhanced)))\n",
    "print(paste0(\"The overlap of repressed PAS between u1c and u170k is \",  nrow(overlap_repressed)))\n",
    "\n",
    "\n",
    "#define every type by genotype, eventtype and direction of change\n",
    "u1c_enhanced_composite      = u1c %>% filter(pair_type == \"composite\"       & gene_class == \"enhanced\")\n",
    "u1c_enhanced_same           = u1c %>% filter(pair_type == \"same\"            & gene_class == \"enhanced\")\n",
    "u1c_enhanced_skipped        = u1c %>% filter(pair_type == \"skipped\"         & gene_class == \"enhanced\")\n",
    "u1c_repressed_composite     = u1c %>% filter(pair_type == \"composite\"       & gene_class == \"repressed\")\n",
    "u1c_repressed_same          = u1c %>% filter(pair_type == \"same\"            & gene_class == \"repressed\")\n",
    "u1c_repressed_skipped       = u1c %>% filter(pair_type == \"skipped\"         & gene_class == \"repressed\")\n",
    "\n",
    "\n",
    "u170k_enhanced_composite    = u170k %>% filter(pair_type == \"composite\"     & gene_class == \"enhanced\")\n",
    "u170k_enhanced_same         = u170k %>% filter(pair_type == \"same\"          & gene_class == \"enhanced\")\n",
    "u170k_enhanced_skipped      = u170k %>% filter(pair_type == \"skipped\"       & gene_class == \"enhanced\")\n",
    "u170k_repressed_composite   = u170k %>% filter(pair_type == \"composite\"     & gene_class == \"repressed\")\n",
    "u170k_repressed_same        = u170k %>% filter(pair_type == \"same\"          & gene_class == \"repressed\")\n",
    "u170k_repressed_skipped     = u170k %>% filter(pair_type == \"skipped\"       & gene_class == \"repressed\")\n",
    "\n",
    "\n",
    "print(paste0(\"The number of enhanced composite PAS in u1c is \",     nrow(u1c_enhanced_composite)))\n",
    "print(paste0(\"The number of repressed composite PAS in u1c is \",    nrow(u1c_repressed_composite)))\n",
    "\n",
    "print(paste0(\"The number of enhanced composite PAS in u170k is \",   nrow(u170k_enhanced_composite)))\n",
    "print(paste0(\"The number of repressed composite PAS in u170k is \",  nrow(u170k_repressed_composite)))\n"
   ]
  },
  {
   "cell_type": "code",
   "execution_count": 5,
   "metadata": {
    "vscode": {
     "languageId": "r"
    }
   },
   "outputs": [],
   "source": [
    "#get the overlaps\n",
    "#this is a pretty restrictive merging. The both polyA sites need to be at the exact same position\n",
    "ski_rep     = merge(u1c %>% filter(pair_type == \"skipped\"   & gene_class == \"repressed\"),    u170k %>% filter(pair_type == \"skipped\"   & gene_class == \"repressed\"), by = c(1,2,3,4,5,6,8,9,10,12,14,34,35), suffixes = c(\"_u1c\", \"_u170k\"))\n",
    "same_rep    = merge(u1c %>% filter(pair_type == \"same\"      & gene_class == \"repressed\"),    u170k %>% filter(pair_type == \"same\"      & gene_class == \"repressed\"), by = c(1,2,3,4,5,6,8,9,10,12,14,34,35), suffixes = c(\"_u1c\", \"_u170k\"))\n",
    "comp_rep    = merge(u1c %>% filter(pair_type == \"composite\" & gene_class == \"repressed\"),    u170k %>% filter(pair_type == \"composite\" & gene_class == \"repressed\"), by = c(1,2,3,4,5,6,8,9,10,12,14,34,35), suffixes = c(\"_u1c\", \"_u170k\"))\n",
    "ski_enh     = merge(u1c %>% filter(pair_type == \"skipped\"   & gene_class == \"enhanced\"),     u170k %>% filter(pair_type == \"skipped\"   & gene_class == \"enhanced\"),  by = c(1,2,3,4,5,6,8,9,10,12,14,34,35), suffixes = c(\"_u1c\", \"_u170k\"))\n",
    "same_enh    = merge(u1c %>% filter(pair_type == \"same\"      & gene_class == \"enhanced\"),     u170k %>% filter(pair_type == \"same\"      & gene_class == \"enhanced\"),  by = c(1,2,3,4,5,6,8,9,10,12,14,34,35), suffixes = c(\"_u1c\", \"_u170k\"))\n",
    "comp_enh    = merge(u1c %>% filter(pair_type == \"composite\" & gene_class == \"enhanced\"),     u170k %>% filter(pair_type == \"composite\" & gene_class == \"enhanced\"),  by = c(1,2,3,4,5,6,8,9,10,12,14,34,35), suffixes = c(\"_u1c\", \"_u170k\"))"
   ]
  },
  {
   "cell_type": "code",
   "execution_count": 6,
   "metadata": {
    "vscode": {
     "languageId": "r"
    }
   },
   "outputs": [
    {
     "data": {
      "text/html": [
       "38"
      ],
      "text/latex": [
       "38"
      ],
      "text/markdown": [
       "38"
      ],
      "text/plain": [
       "[1] 38"
      ]
     },
     "metadata": {},
     "output_type": "display_data"
    }
   ],
   "source": [
    "#get number of comp_rep events\n",
    "nrow(comp_rep)"
   ]
  },
  {
   "cell_type": "code",
   "execution_count": 7,
   "metadata": {
    "vscode": {
     "languageId": "r"
    }
   },
   "outputs": [],
   "source": [
    "#write output tables\n",
    "write.table(x = same_enh,   \"overlap_apa_enhanced_same_exon\",        row.names = F, col.names = F, quote = F)\n",
    "write.table(x = ski_enh,    \"overlap_apa_enhanced_skipped_exon\",     row.names = F, col.names = F, quote = F)\n",
    "write.table(x = comp_enh,   \"overlap_apa_enhanced_composite_exon\",   row.names = F, col.names = F, quote = F)\n",
    "write.table(x = same_rep,   \"overlap_apa_repressed_same_exon\",       row.names = F, col.names = F, quote = F)\n",
    "write.table(x = ski_rep,    \"overlap_apa_repressed_skipped_exon\",    row.names = F, col.names = F, quote = F)\n",
    "write.table(x = comp_rep,   \"overlap_apa_repressed_composite_exon\",  row.names = F, col.names = F, quote = F)"
   ]
  },
  {
   "cell_type": "code",
   "execution_count": 7,
   "metadata": {
    "vscode": {
     "languageId": "r"
    }
   },
   "outputs": [
    {
     "data": {
      "text/html": [
       "1.45839396774475e-73"
      ],
      "text/latex": [
       "1.45839396774475e-73"
      ],
      "text/markdown": [
       "1.45839396774475e-73"
      ],
      "text/plain": [
       "[1] 1.458394e-73"
      ]
     },
     "metadata": {},
     "output_type": "display_data"
    }
   ],
   "source": [
    "#test for significant over-representation in overlap of enhanced PAS\n",
    "phyper(nrow(overlap_enhanced)-1, enhanced_u1c, nrow(all_events)-enhanced_u1c, enhanced_u170k, lower.tail = FALSE)"
   ]
  },
  {
   "cell_type": "code",
   "execution_count": 8,
   "metadata": {
    "vscode": {
     "languageId": "r"
    }
   },
   "outputs": [
    {
     "data": {
      "text/html": [
       "1.23701752951033e-06"
      ],
      "text/latex": [
       "1.23701752951033e-06"
      ],
      "text/markdown": [
       "1.23701752951033e-06"
      ],
      "text/plain": [
       "[1] 1.237018e-06"
      ]
     },
     "metadata": {},
     "output_type": "display_data"
    }
   ],
   "source": [
    "#test for significant over-representation in overlap of repressed PAS\n",
    "phyper(nrow(overlap_repressed)-1, repressed_u1c, nrow(all_events)-repressed_u1c, repressed_u170k, lower.tail = FALSE)"
   ]
  },
  {
   "cell_type": "code",
   "execution_count": 9,
   "metadata": {
    "vscode": {
     "languageId": "r"
    }
   },
   "outputs": [
    {
     "data": {
      "text/html": [
       "1.18833919161055e-24"
      ],
      "text/latex": [
       "1.18833919161055e-24"
      ],
      "text/markdown": [
       "1.18833919161055e-24"
      ],
      "text/plain": [
       "[1] 1.188339e-24"
      ]
     },
     "metadata": {},
     "output_type": "display_data"
    }
   ],
   "source": [
    "#test for significant over-representation in overlap of repressed composite PAS\n",
    "phyper(nrow(comp_rep)-1, nrow(u1c_repressed_composite), nrow(all_events)-nrow(u1c_repressed_composite), nrow(u170k_repressed_composite), lower.tail = FALSE)"
   ]
  },
  {
   "cell_type": "code",
   "execution_count": 10,
   "metadata": {
    "vscode": {
     "languageId": "r"
    }
   },
   "outputs": [
    {
     "data": {
      "text/html": [
       "7.48109828624232e-11"
      ],
      "text/latex": [
       "7.48109828624232e-11"
      ],
      "text/markdown": [
       "7.48109828624232e-11"
      ],
      "text/plain": [
       "[1] 7.481098e-11"
      ]
     },
     "metadata": {},
     "output_type": "display_data"
    }
   ],
   "source": [
    "#test for significant over-representation in overlap of enhanced composite PAS\n",
    "phyper(nrow(comp_enh)-1, nrow(u1c_enhanced_composite), nrow(all_events)-nrow(u1c_enhanced_composite), nrow(u170k_enhanced_composite), lower.tail = FALSE)"
   ]
  },
  {
   "cell_type": "code",
   "execution_count": 9,
   "metadata": {
    "vscode": {
     "languageId": "r"
    }
   },
   "outputs": [
    {
     "data": {
      "text/plain": [
       "R version 4.2.2 (2022-10-31 ucrt)\n",
       "Platform: x86_64-w64-mingw32/x64 (64-bit)\n",
       "Running under: Windows 10 x64 (build 22621)\n",
       "\n",
       "Matrix products: default\n",
       "\n",
       "locale:\n",
       "[1] LC_COLLATE=English_Germany.utf8  LC_CTYPE=English_Germany.utf8   \n",
       "[3] LC_MONETARY=English_Germany.utf8 LC_NUMERIC=C                    \n",
       "[5] LC_TIME=English_Germany.utf8    \n",
       "\n",
       "attached base packages:\n",
       "[1] stats     graphics  grDevices utils     datasets  methods   base     \n",
       "\n",
       "other attached packages:\n",
       "[1] dplyr_1.1.2\n",
       "\n",
       "loaded via a namespace (and not attached):\n",
       " [1] magrittr_2.0.3   tidyselect_1.2.0 uuid_1.1-0       R6_2.5.1        \n",
       " [5] rlang_1.1.1      fastmap_1.1.0    fansi_1.0.4      tools_4.2.2     \n",
       " [9] utf8_1.2.2       cli_3.6.0        htmltools_0.5.4  digest_0.6.31   \n",
       "[13] tibble_3.2.1     lifecycle_1.0.3  crayon_1.5.2     IRdisplay_1.1   \n",
       "[17] repr_1.1.6       base64enc_0.1-3  vctrs_0.6.2      IRkernel_1.3.2  \n",
       "[21] glue_1.6.2       evaluate_0.21    pbdZMQ_0.3-9     compiler_4.2.2  \n",
       "[25] pillar_1.9.0     generics_0.1.3   jsonlite_1.8.5   pkgconfig_2.0.3 "
      ]
     },
     "metadata": {},
     "output_type": "display_data"
    }
   ],
   "source": [
    "sessionInfo()"
   ]
  }
 ],
 "metadata": {
  "kernelspec": {
   "display_name": "R",
   "language": "R",
   "name": "ir"
  },
  "language_info": {
   "codemirror_mode": "r",
   "file_extension": ".r",
   "mimetype": "text/x-r-source",
   "name": "R",
   "pygments_lexer": "r",
   "version": "4.2.2"
  },
  "orig_nbformat": 4
 },
 "nbformat": 4,
 "nbformat_minor": 2
}
